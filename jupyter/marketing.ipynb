{
 "cells": [
  {
   "cell_type": "markdown",
   "metadata": {},
   "source": [
    "# Introducción al Análisis del Marketing \n",
    "\n",
    "## Importancia\n",
    "- Conocimiento del cliente\n",
    "- Optimiza el retorno de la Inversión\n",
    "- Personaliza la experiencia\n",
    "- Efectividad de las campañas\n",
    "\n",
    "## Términos claves\n",
    "- Funnel de conversión\n",
    "- Segmentación del mercado\n",
    "- Customer lifetime Value (CLV)\n",
    "- Retención y Churn\n",
    "\n",
    "## Ejemplos \n",
    "- Personalizar las campañas\n",
    "- Optimizar los presupuestos publcitarios\n",
    "- Efectividad de las campañas\n"
   ]
  },
  {
   "cell_type": "markdown",
   "metadata": {},
   "source": [
    "# Métricas clave de marketing\n",
    " ## 1.- KPI's de Adquisición (Enfocado a atraer nuevos clientes)\n",
    "   - ### CAC (Costo de adquision del cliente)\n",
    "  $$\n",
    "  \\text{CAC} = \\frac{\\text{Total \\, invertido \\, en \\, marketing \\, y \\, ventas}}{\\text{Número \\, de \\, nuevos \\, clientes \\, adquiridos}}\n",
    "  $$\n",
    "  - ### CTR (Clicks por impresiones, relevancia y atractivo de los anuncios)\n",
    "  $$\n",
    "  \\text{CTR} (\\%)= \\frac{\\text{Clicks \\, en \\, el \\, anuncio}}{\\text{Impresiones \\, totales}} \\times 100\n",
    "  $$\n",
    "  - ### CPC (Costo por Click)\n",
    "  $$\n",
    "  \\text{CPC} = \\frac{\\text{Costo \\, total \\, de \\, la \\, campaña}}{\\text{Número \\, de \\, clicks}} \\times 100\n",
    "  $$\n",
    "\n",
    "  ## 2.- KPI's de Conversión (Miden el rendimiento de las ventas y acciones clave)\n",
    "\n",
    "  - ### Tasa de conversión \n",
    "  $$\n",
    "  \\text{Tasa \\, de \\, conversión} (\\%) = \\frac{\\text{Número \\, de \\, conversiones }}{\\text{Número \\, de \\,visitantes \\,únicos}} \\times 100\n",
    "  $$\n",
    "\n",
    "  - ### ROAS \n",
    "    (Return on Advertising Spend, por sus siglas en inglés) es una métrica clave en marketing digital que mide la eficiencia de una campaña publicitaria en términos de ingresos generados en comparación con el gasto publicitario.\n",
    "  $$\n",
    "  \\text{ROAS} = \\frac{\\text{Ingresos Generados por la Campaña}}{\\text{Gasto en Publicidad}}\n",
    "  $$\n",
    "\n",
    "  ## 3.- KPI's Retención ( Comportamiento de los clientes ya existentes)ç\n",
    "\n",
    "  - ### Tasa de Churn (Abandono)\n",
    "  $$\n",
    "  \\text{Churn Rate} (\\%)= \\frac{\\text{Clientes perdidos en un período}}{\\text{Clientes totales al inicio del período}} \\times 100\n",
    "  $$\n",
    "\n",
    "  - ### Tasa de Retención (Mantener al cliente)\n",
    "  $$\n",
    "  \\text{Tasa de retención} (\\%) = {\\text{100}}-{\\text{Tasa de Churn (\\%)}} \\times 100\n",
    "  $$\n",
    "\n",
    "  - ### CLV (Customer Lifetime Value)\n",
    "  $$\n",
    "  \\text{CLV} = \\text{Ingreso Promedio por Cliente} \\times \\text{Frecuencia de Compra} \\times \\text{Duración de la Relación (en años)}\n",
    "  $$\n"
   ]
  },
  {
   "cell_type": "markdown",
   "metadata": {},
   "source": [
    "# Métricas as generar\n",
    "- CTR\n",
    "- CPC\n",
    "- CPM ( Costo por mil)\n",
    "- CPE (Costo por engagement)\n",
    "- Costo por conversión\n",
    "- Converision_Value\n",
    "- Engagement_Rate\n",
    "- impresión por Dolar\n",
    "- Éxito de la campaña\n",
    "- CLV (Impresiones, no clientes)"
   ]
  }
 ],
 "metadata": {
  "language_info": {
   "name": "python"
  }
 },
 "nbformat": 4,
 "nbformat_minor": 2
}
